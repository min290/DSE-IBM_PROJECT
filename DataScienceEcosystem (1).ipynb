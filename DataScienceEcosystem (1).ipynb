{
 "cells": [
  {
   "cell_type": "markdown",
   "metadata": {},
   "source": [
    "<center>\n",
    "    <img src=\"https://cf-courses-data.s3.us.cloud-object-storage.appdomain.cloud/IBMDeveloperSkillsNetwork-DS0105EN-SkillsNetwork/labs/Module2/images/SN_web_lightmode.png\" width=\"300\" alt=\"cognitiveclass.ai logo\">\n",
    "</center>\n"
   ]
  },
  {
   "cell_type": "markdown",
   "metadata": {},
   "source": [
    "#### Add your code below following the instructions given in the course\n"
   ]
  },
  {
   "cell_type": "code",
   "execution_count": null,
   "metadata": {},
   "outputs": [],
   "source": [
    "# Data Science Tools and Ecosystem"
   ]
  },
  {
   "cell_type": "code",
   "execution_count": 10,
   "metadata": {},
   "outputs": [],
   "source": [
    "# In this notebook, Data Science Tools and Ecosystem are summarized."
   ]
  },
  {
   "cell_type": "code",
   "execution_count": 11,
   "metadata": {},
   "outputs": [],
   "source": [
    "# Some of the popular languages that Data Scientists use are:\n",
    "# 1. Python\n",
    "# 2. R\n",
    "# 3. SQl"
   ]
  },
  {
   "cell_type": "code",
   "execution_count": 19,
   "metadata": {},
   "outputs": [],
   "source": [
    "#  |Data Science Tools|\n",
    "#  |------------------|\n",
    "#  | Jupyter Notebook |\n",
    "#  | RStudio          |\n",
    "#  | Apache Zeppelin  |"
   ]
  },
  {
   "cell_type": "code",
   "execution_count": 20,
   "metadata": {},
   "outputs": [],
   "source": [
    "#Objectives:\n",
    "\n",
    "# List popular languages for Data Science\n",
    "#Identify commonly used libraries in Data Science\n",
    "#Understand basic data manipulation techniques\n",
    "#Explore data visualization methods\n",
    "#Gain insights into machine learning concepts\n",
    "#Learn about version control and collaboration tools"
   ]
  },
  {
   "cell_type": "code",
   "execution_count": 13,
   "metadata": {},
   "outputs": [
    {
     "name": "stdout",
     "output_type": "stream",
     "text": [
      "8\n",
      "6\n",
      "42\n",
      "5.0\n",
      "1\n",
      "8\n",
      "7\n"
     ]
    }
   ],
   "source": [
    "# Below are a few examples of evaluating arithmetic expressions in Python:\n",
    "# Addition\n",
    "result = 5 + 3\n",
    "print(result)  # Output: 8\n",
    "\n",
    "# Subtraction\n",
    "result = 10 - 4\n",
    "print(result)  # Output: 6\n",
    "\n",
    "#Multiplication\n",
    "result = 6 * 7\n",
    "print(result)  # Output: 42\n",
    "\n",
    "#Divsion\n",
    "result = 15 / 3\n",
    "print(result)  # Output: 5.0\n",
    "\n",
    "#Modulus\n",
    "result = 17 % 4\n",
    "print(result)  # Output: 1\n",
    "\n",
    "#Exponentiation\n",
    "result = 2 ** 3\n",
    "print(result)  # Output: 8\n",
    "\n",
    "#Floor Division\n",
    "result = 15 // 2\n",
    "print(result)  # Output: 7"
   ]
  },
  {
   "cell_type": "code",
   "execution_count": 14,
   "metadata": {},
   "outputs": [
    {
     "name": "stdout",
     "output_type": "stream",
     "text": [
      "17\n"
     ]
    }
   ],
   "source": [
    "# This a simple arithmetic expression to mutiply then add integers\n",
    "result = (3 * 4) + 5\n",
    "print(result)  # Output: 17\n"
   ]
  },
  {
   "cell_type": "code",
   "execution_count": 16,
   "metadata": {},
   "outputs": [],
   "source": [
    "# Some of the commonly used libraries used by Data Scientists include:\n",
    "# NumPy:\n",
    "#Provides support for large, multi-dimensional arrays and matrices, along with a collection of mathematical functions to operate on these arrays.\n",
    "\n",
    "#Pandas:\n",
    "# Offers data manipulation and analysis tools, particularly for structured data. It provides DataFrames, which are powerful for data wrangling.\n",
    "\n",
    "#Matplotlib:\n",
    "#A plotting library used for creating static, animated, and interactive visualizations in Python. It is often used for data visualization.\n",
    "\n",
    "#Seaborn:\n",
    "#Built on top of Matplotlib, Seaborn provides a high-level interface for drawing attractive and informative statistical graphics.\n",
    "\n",
    "#ciPy:\n",
    "#A library used for scientific and technical computing. It builds on NumPy and provides additional functionality for optimization, integration, interpolation, and more.\n",
    "\n",
    "#Scikit-learn:\n",
    "#A machine learning library that provides simple and efficient tools for data mining and data analysis, including classification, regression, and clustering algorithms.\n",
    "\n",
    "#TensorFlow:\n",
    "#An open-source framework for machine learning and deep learning. It provides a comprehensive ecosystem for building and training models.\n",
    "\n",
    "#Keras:\n",
    "#A high-level neural networks API that runs on top of TensorFlow, making it easier to build and train deep learning models.\n",
    "\n",
    "#Statsmodels:\n",
    "#A library for estimating and testing statistical models. It is used for statistical modeling and hypothesis testing.\n",
    "\n",
    "#NLTK / SpaCy:\n",
    "#Libraries for natural language processing (NLP). NLTK is great for teaching and prototyping, while SpaCy is optimized for production use.\n"
   ]
  },
  {
   "cell_type": "code",
   "execution_count": 17,
   "metadata": {},
   "outputs": [
    {
     "name": "stdout",
     "output_type": "stream",
     "text": [
      "3.3333333333333335\n"
     ]
    }
   ],
   "source": [
    "#This will convert 200 minutes to hours by diving by 60\n",
    "minutes = 200\n",
    "hours = minutes / 60\n",
    "print(hours)"
   ]
  },
  {
   "cell_type": "code",
   "execution_count": 18,
   "metadata": {},
   "outputs": [],
   "source": [
    "# Author:\n",
    "# Minal Gupta"
   ]
  },
  {
   "cell_type": "code",
   "execution_count": null,
   "metadata": {},
   "outputs": [],
   "source": []
  }
 ],
 "metadata": {
  "kernelspec": {
   "display_name": "Python 3 (ipykernel)",
   "language": "python",
   "name": "python3"
  },
  "language_info": {
   "codemirror_mode": {
    "name": "ipython",
    "version": 3
   },
   "file_extension": ".py",
   "mimetype": "text/x-python",
   "name": "python",
   "nbconvert_exporter": "python",
   "pygments_lexer": "ipython3",
   "version": "3.11.9"
  }
 },
 "nbformat": 4,
 "nbformat_minor": 4
}
